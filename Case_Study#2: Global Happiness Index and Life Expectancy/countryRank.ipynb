{
 "cells": [
  {
   "cell_type": "code",
   "execution_count": 23,
   "id": "365d7a02-bf78-4224-83d2-e26cc2e76df5",
   "metadata": {},
   "outputs": [],
   "source": [
    "# Import the required libraries and dependencies\n",
    "import numpy as np\n",
    "import pandas as pd\n",
    "from pathlib import Path\n",
    "import pandas as pd\n",
    "import pycountry_convert as pc\n",
    "import os "
   ]
  },
  {
   "cell_type": "code",
   "execution_count": 2,
   "id": "75bdc9b1-bab4-4608-95cf-922dba94a268",
   "metadata": {
    "tags": []
   },
   "outputs": [],
   "source": [
    "#create a path object and specify the filename\n",
    "df1 = pd.read_csv(Path(\"../resources/lifeExpectancy.csv\"))\n",
    "df2 = pd.read_csv(Path(\"../resources/CountryHappinessRank.csv\"))"
   ]
  },
  {
   "cell_type": "code",
   "execution_count": 3,
   "id": "4c0a1ecc-0ea3-4994-8cc1-210f7df2799d",
   "metadata": {
    "tags": []
   },
   "outputs": [
    {
     "data": {
      "text/html": [
       "<div>\n",
       "<style scoped>\n",
       "    .dataframe tbody tr th:only-of-type {\n",
       "        vertical-align: middle;\n",
       "    }\n",
       "\n",
       "    .dataframe tbody tr th {\n",
       "        vertical-align: top;\n",
       "    }\n",
       "\n",
       "    .dataframe thead th {\n",
       "        text-align: right;\n",
       "    }\n",
       "</style>\n",
       "<table border=\"1\" class=\"dataframe\">\n",
       "  <thead>\n",
       "    <tr style=\"text-align: right;\">\n",
       "      <th></th>\n",
       "      <th>Country Name</th>\n",
       "      <th>Country Code</th>\n",
       "      <th>Region</th>\n",
       "      <th>IncomeGroup</th>\n",
       "      <th>Year</th>\n",
       "      <th>Life Expectancy World Bank</th>\n",
       "      <th>Prevelance of Undernourishment</th>\n",
       "      <th>CO2</th>\n",
       "      <th>Health Expenditure %</th>\n",
       "      <th>Education Expenditure %</th>\n",
       "      <th>Unemployment</th>\n",
       "      <th>Corruption</th>\n",
       "      <th>Sanitation</th>\n",
       "      <th>Injuries</th>\n",
       "      <th>Communicable</th>\n",
       "      <th>NonCommunicable</th>\n",
       "    </tr>\n",
       "  </thead>\n",
       "  <tbody>\n",
       "    <tr>\n",
       "      <th>0</th>\n",
       "      <td>Afghanistan</td>\n",
       "      <td>AFG</td>\n",
       "      <td>South Asia</td>\n",
       "      <td>Low income</td>\n",
       "      <td>2001</td>\n",
       "      <td>56.308</td>\n",
       "      <td>47.8</td>\n",
       "      <td>730.0</td>\n",
       "      <td>NaN</td>\n",
       "      <td>NaN</td>\n",
       "      <td>10.809000</td>\n",
       "      <td>NaN</td>\n",
       "      <td>NaN</td>\n",
       "      <td>2179727.10</td>\n",
       "      <td>9689193.70</td>\n",
       "      <td>5795426.38</td>\n",
       "    </tr>\n",
       "    <tr>\n",
       "      <th>1</th>\n",
       "      <td>Angola</td>\n",
       "      <td>AGO</td>\n",
       "      <td>Sub-Saharan Africa</td>\n",
       "      <td>Lower middle income</td>\n",
       "      <td>2001</td>\n",
       "      <td>47.059</td>\n",
       "      <td>67.5</td>\n",
       "      <td>15960.0</td>\n",
       "      <td>4.483516</td>\n",
       "      <td>NaN</td>\n",
       "      <td>4.004000</td>\n",
       "      <td>NaN</td>\n",
       "      <td>NaN</td>\n",
       "      <td>1392080.71</td>\n",
       "      <td>11190210.53</td>\n",
       "      <td>2663516.34</td>\n",
       "    </tr>\n",
       "    <tr>\n",
       "      <th>2</th>\n",
       "      <td>Albania</td>\n",
       "      <td>ALB</td>\n",
       "      <td>Europe &amp; Central Asia</td>\n",
       "      <td>Upper middle income</td>\n",
       "      <td>2001</td>\n",
       "      <td>74.288</td>\n",
       "      <td>4.9</td>\n",
       "      <td>3230.0</td>\n",
       "      <td>7.139524</td>\n",
       "      <td>3.4587</td>\n",
       "      <td>18.575001</td>\n",
       "      <td>NaN</td>\n",
       "      <td>40.520895</td>\n",
       "      <td>117081.67</td>\n",
       "      <td>140894.78</td>\n",
       "      <td>532324.75</td>\n",
       "    </tr>\n",
       "    <tr>\n",
       "      <th>3</th>\n",
       "      <td>Andorra</td>\n",
       "      <td>AND</td>\n",
       "      <td>Europe &amp; Central Asia</td>\n",
       "      <td>High income</td>\n",
       "      <td>2001</td>\n",
       "      <td>NaN</td>\n",
       "      <td>NaN</td>\n",
       "      <td>520.0</td>\n",
       "      <td>5.865939</td>\n",
       "      <td>NaN</td>\n",
       "      <td>NaN</td>\n",
       "      <td>NaN</td>\n",
       "      <td>21.788660</td>\n",
       "      <td>1697.99</td>\n",
       "      <td>695.56</td>\n",
       "      <td>13636.64</td>\n",
       "    </tr>\n",
       "    <tr>\n",
       "      <th>4</th>\n",
       "      <td>United Arab Emirates</td>\n",
       "      <td>ARE</td>\n",
       "      <td>Middle East &amp; North Africa</td>\n",
       "      <td>High income</td>\n",
       "      <td>2001</td>\n",
       "      <td>74.544</td>\n",
       "      <td>2.8</td>\n",
       "      <td>97200.0</td>\n",
       "      <td>2.484370</td>\n",
       "      <td>NaN</td>\n",
       "      <td>2.493000</td>\n",
       "      <td>NaN</td>\n",
       "      <td>NaN</td>\n",
       "      <td>144678.14</td>\n",
       "      <td>65271.91</td>\n",
       "      <td>481740.70</td>\n",
       "    </tr>\n",
       "  </tbody>\n",
       "</table>\n",
       "</div>"
      ],
      "text/plain": [
       "           Country Name Country Code                      Region  \\\n",
       "0           Afghanistan          AFG                  South Asia   \n",
       "1                Angola          AGO          Sub-Saharan Africa   \n",
       "2               Albania          ALB       Europe & Central Asia   \n",
       "3               Andorra          AND       Europe & Central Asia   \n",
       "4  United Arab Emirates          ARE  Middle East & North Africa   \n",
       "\n",
       "           IncomeGroup  Year  Life Expectancy World Bank  \\\n",
       "0           Low income  2001                      56.308   \n",
       "1  Lower middle income  2001                      47.059   \n",
       "2  Upper middle income  2001                      74.288   \n",
       "3          High income  2001                         NaN   \n",
       "4          High income  2001                      74.544   \n",
       "\n",
       "   Prevelance of Undernourishment      CO2  Health Expenditure %  \\\n",
       "0                            47.8    730.0                   NaN   \n",
       "1                            67.5  15960.0              4.483516   \n",
       "2                             4.9   3230.0              7.139524   \n",
       "3                             NaN    520.0              5.865939   \n",
       "4                             2.8  97200.0              2.484370   \n",
       "\n",
       "   Education Expenditure %  Unemployment  Corruption  Sanitation    Injuries  \\\n",
       "0                      NaN     10.809000         NaN         NaN  2179727.10   \n",
       "1                      NaN      4.004000         NaN         NaN  1392080.71   \n",
       "2                   3.4587     18.575001         NaN   40.520895   117081.67   \n",
       "3                      NaN           NaN         NaN   21.788660     1697.99   \n",
       "4                      NaN      2.493000         NaN         NaN   144678.14   \n",
       "\n",
       "   Communicable  NonCommunicable  \n",
       "0    9689193.70       5795426.38  \n",
       "1   11190210.53       2663516.34  \n",
       "2     140894.78        532324.75  \n",
       "3        695.56         13636.64  \n",
       "4      65271.91        481740.70  "
      ]
     },
     "execution_count": 3,
     "metadata": {},
     "output_type": "execute_result"
    }
   ],
   "source": [
    "df1.head()"
   ]
  },
  {
   "cell_type": "code",
   "execution_count": 4,
   "id": "ec5d1043-4e38-42f5-a277-be109172df96",
   "metadata": {
    "tags": []
   },
   "outputs": [
    {
     "data": {
      "text/html": [
       "<div>\n",
       "<style scoped>\n",
       "    .dataframe tbody tr th:only-of-type {\n",
       "        vertical-align: middle;\n",
       "    }\n",
       "\n",
       "    .dataframe tbody tr th {\n",
       "        vertical-align: top;\n",
       "    }\n",
       "\n",
       "    .dataframe thead th {\n",
       "        text-align: right;\n",
       "    }\n",
       "</style>\n",
       "<table border=\"1\" class=\"dataframe\">\n",
       "  <thead>\n",
       "    <tr style=\"text-align: right;\">\n",
       "      <th></th>\n",
       "      <th>Country</th>\n",
       "      <th>Region</th>\n",
       "      <th>Happiness Rank</th>\n",
       "      <th>Happiness Score</th>\n",
       "      <th>Standard Error</th>\n",
       "      <th>Economy (GDP per Capita)</th>\n",
       "      <th>Family</th>\n",
       "      <th>Health (Life Expectancy)</th>\n",
       "      <th>Freedom</th>\n",
       "      <th>Trust (Government Corruption)</th>\n",
       "      <th>Generosity</th>\n",
       "      <th>Dystopia Residual</th>\n",
       "    </tr>\n",
       "  </thead>\n",
       "  <tbody>\n",
       "    <tr>\n",
       "      <th>0</th>\n",
       "      <td>Switzerland</td>\n",
       "      <td>Western Europe</td>\n",
       "      <td>1</td>\n",
       "      <td>7.587</td>\n",
       "      <td>0.03411</td>\n",
       "      <td>1.39651</td>\n",
       "      <td>1.34951</td>\n",
       "      <td>0.94143</td>\n",
       "      <td>0.66557</td>\n",
       "      <td>0.41978</td>\n",
       "      <td>0.29678</td>\n",
       "      <td>2.51738</td>\n",
       "    </tr>\n",
       "    <tr>\n",
       "      <th>1</th>\n",
       "      <td>Iceland</td>\n",
       "      <td>Western Europe</td>\n",
       "      <td>2</td>\n",
       "      <td>7.561</td>\n",
       "      <td>0.04884</td>\n",
       "      <td>1.30232</td>\n",
       "      <td>1.40223</td>\n",
       "      <td>0.94784</td>\n",
       "      <td>0.62877</td>\n",
       "      <td>0.14145</td>\n",
       "      <td>0.43630</td>\n",
       "      <td>2.70201</td>\n",
       "    </tr>\n",
       "    <tr>\n",
       "      <th>2</th>\n",
       "      <td>Denmark</td>\n",
       "      <td>Western Europe</td>\n",
       "      <td>3</td>\n",
       "      <td>7.527</td>\n",
       "      <td>0.03328</td>\n",
       "      <td>1.32548</td>\n",
       "      <td>1.36058</td>\n",
       "      <td>0.87464</td>\n",
       "      <td>0.64938</td>\n",
       "      <td>0.48357</td>\n",
       "      <td>0.34139</td>\n",
       "      <td>2.49204</td>\n",
       "    </tr>\n",
       "    <tr>\n",
       "      <th>3</th>\n",
       "      <td>Norway</td>\n",
       "      <td>Western Europe</td>\n",
       "      <td>4</td>\n",
       "      <td>7.522</td>\n",
       "      <td>0.03880</td>\n",
       "      <td>1.45900</td>\n",
       "      <td>1.33095</td>\n",
       "      <td>0.88521</td>\n",
       "      <td>0.66973</td>\n",
       "      <td>0.36503</td>\n",
       "      <td>0.34699</td>\n",
       "      <td>2.46531</td>\n",
       "    </tr>\n",
       "    <tr>\n",
       "      <th>4</th>\n",
       "      <td>Canada</td>\n",
       "      <td>North America</td>\n",
       "      <td>5</td>\n",
       "      <td>7.427</td>\n",
       "      <td>0.03553</td>\n",
       "      <td>1.32629</td>\n",
       "      <td>1.32261</td>\n",
       "      <td>0.90563</td>\n",
       "      <td>0.63297</td>\n",
       "      <td>0.32957</td>\n",
       "      <td>0.45811</td>\n",
       "      <td>2.45176</td>\n",
       "    </tr>\n",
       "  </tbody>\n",
       "</table>\n",
       "</div>"
      ],
      "text/plain": [
       "       Country          Region  Happiness Rank  Happiness Score  \\\n",
       "0  Switzerland  Western Europe               1            7.587   \n",
       "1      Iceland  Western Europe               2            7.561   \n",
       "2      Denmark  Western Europe               3            7.527   \n",
       "3       Norway  Western Europe               4            7.522   \n",
       "4       Canada   North America               5            7.427   \n",
       "\n",
       "   Standard Error  Economy (GDP per Capita)   Family  \\\n",
       "0         0.03411                   1.39651  1.34951   \n",
       "1         0.04884                   1.30232  1.40223   \n",
       "2         0.03328                   1.32548  1.36058   \n",
       "3         0.03880                   1.45900  1.33095   \n",
       "4         0.03553                   1.32629  1.32261   \n",
       "\n",
       "   Health (Life Expectancy)  Freedom  Trust (Government Corruption)  \\\n",
       "0                   0.94143  0.66557                        0.41978   \n",
       "1                   0.94784  0.62877                        0.14145   \n",
       "2                   0.87464  0.64938                        0.48357   \n",
       "3                   0.88521  0.66973                        0.36503   \n",
       "4                   0.90563  0.63297                        0.32957   \n",
       "\n",
       "   Generosity  Dystopia Residual  \n",
       "0     0.29678            2.51738  \n",
       "1     0.43630            2.70201  \n",
       "2     0.34139            2.49204  \n",
       "3     0.34699            2.46531  \n",
       "4     0.45811            2.45176  "
      ]
     },
     "execution_count": 4,
     "metadata": {},
     "output_type": "execute_result"
    }
   ],
   "source": [
    "df2.head()"
   ]
  },
  {
   "cell_type": "code",
   "execution_count": 5,
   "id": "e19bfdf3-9744-4bc4-b963-99ad4320dbf0",
   "metadata": {
    "tags": []
   },
   "outputs": [
    {
     "data": {
      "text/plain": [
       "(158, 12)"
      ]
     },
     "execution_count": 5,
     "metadata": {},
     "output_type": "execute_result"
    }
   ],
   "source": [
    "df2.shape"
   ]
  },
  {
   "cell_type": "code",
   "execution_count": 6,
   "id": "0dea9765-e3c6-4524-8dcd-86a5533fe512",
   "metadata": {},
   "outputs": [
    {
     "data": {
      "text/plain": [
       "(3306, 16)"
      ]
     },
     "execution_count": 6,
     "metadata": {},
     "output_type": "execute_result"
    }
   ],
   "source": [
    "df1.shape"
   ]
  },
  {
   "cell_type": "code",
   "execution_count": 7,
   "id": "952452ed-371d-4587-94d5-3c6fad22618d",
   "metadata": {
    "tags": []
   },
   "outputs": [
    {
     "data": {
      "text/plain": [
       "Country Name                       object\n",
       "Country Code                       object\n",
       "Region                             object\n",
       "IncomeGroup                        object\n",
       "Year                                int64\n",
       "Life Expectancy World Bank        float64\n",
       "Prevelance of Undernourishment    float64\n",
       "CO2                               float64\n",
       "Health Expenditure %              float64\n",
       "Education Expenditure %           float64\n",
       "Unemployment                      float64\n",
       "Corruption                        float64\n",
       "Sanitation                        float64\n",
       "Injuries                          float64\n",
       "Communicable                      float64\n",
       "NonCommunicable                   float64\n",
       "dtype: object"
      ]
     },
     "execution_count": 7,
     "metadata": {},
     "output_type": "execute_result"
    }
   ],
   "source": [
    "df1.dtypes"
   ]
  },
  {
   "cell_type": "markdown",
   "id": "881746b8-0076-40c4-93b5-32c05da633e2",
   "metadata": {},
   "source": [
    "**1. Data Restructuring and Column Name Standardization**"
   ]
  },
  {
   "cell_type": "code",
   "execution_count": 8,
   "id": "a36de5bc-5f59-4177-a807-816ef452b196",
   "metadata": {
    "tags": []
   },
   "outputs": [],
   "source": [
    "#remove unnecessary column or duplicated\n",
    "df1 = df1.drop(columns = ['Communicable', 'NonCommunicable', 'Injuries', 'Country Code'])\n",
    "df2 = df2.drop(columns=['Standard Error', 'Health (Life Expectancy)', 'Dystopia Residual', 'Region', 'Health (Life Expectancy)'])"
   ]
  },
  {
   "cell_type": "code",
   "execution_count": 9,
   "id": "819ed4d4-9775-40c0-a7be-e2a8cbd2a776",
   "metadata": {
    "tags": []
   },
   "outputs": [
    {
     "data": {
      "text/plain": [
       "Country Name                         0\n",
       "Region                               0\n",
       "IncomeGroup                          0\n",
       "Year                                 0\n",
       "Life Expectancy World Bank         188\n",
       "Prevelance of Undernourishment     684\n",
       "CO2                                152\n",
       "Health Expenditure %               180\n",
       "Education Expenditure %           1090\n",
       "Unemployment                       304\n",
       "Corruption                        2331\n",
       "Sanitation                        1247\n",
       "dtype: int64"
      ]
     },
     "execution_count": 9,
     "metadata": {},
     "output_type": "execute_result"
    }
   ],
   "source": [
    "df1.isnull().sum()"
   ]
  },
  {
   "cell_type": "code",
   "execution_count": 10,
   "id": "26e4f894-f84d-48b2-94b0-7615b9428c8e",
   "metadata": {
    "tags": []
   },
   "outputs": [],
   "source": [
    "#rename columns\n",
    "df1 = df1.rename(columns ={'Country Name': 'country','Region': 'region', 'IncomeGroup' : 'income_group', 'Year' : 'year','Prevelance of Undernourishment' : 'undernourishment', 'Life Expectancy World Bank' : 'life_expectancy', 'Health Expenditure %' : 'health_expenditure', 'Unemployment' : 'unemployment'\n",
    "                           , 'Education Expenditure %' : 'education_expenditure', 'Sanitation' : 'sanitation'})\n",
    "df2 =df2.rename(columns ={'Country' : 'country' , 'Happiness Rank': 'happiness_rank','Happiness Score': 'happiness_score', 'Economy (GDP per Capita)' : 'GDP', 'Family' : 'family', 'Freedom' : 'freedom', \n",
    "                          'Trust (Government Corruption)': 'government_trust', 'Generosity': 'generosity'})"
   ]
  },
  {
   "cell_type": "markdown",
   "id": "115f22ba-c970-4986-acad-69e834e94572",
   "metadata": {
    "tags": []
   },
   "source": [
    "**2. Missing data**"
   ]
  },
  {
   "cell_type": "code",
   "execution_count": 11,
   "id": "1393787a-5be5-4da0-8e66-7236e35624f2",
   "metadata": {
    "tags": []
   },
   "outputs": [
    {
     "name": "stdout",
     "output_type": "stream",
     "text": [
      "the percentage null of Corruption column is 70.508166969147\n",
      "the percentage null of Sanitation column is 37.719298245614034\n",
      "the percentage null of Education Expenditure column is 32.97035692679976\n"
     ]
    }
   ],
   "source": [
    "#checking null percentage, remove column that has more than 50% nulls\n",
    "column_1 = 'Corruption'\n",
    "null_count = df1['Corruption'].isnull().sum()\n",
    "total_rows = len(df1)\n",
    "percentage_null_1 = (null_count/total_rows) *100\n",
    "print(f\"the percentage null of {column_1} column is {percentage_null_1}\")\n",
    "      \n",
    "column_2 = 'Sanitation'\n",
    "null_count = df1['sanitation'].isnull().sum()\n",
    "total_rows = len(df1)\n",
    "percentage_null_2 = (null_count/total_rows) *100\n",
    "print(f\"the percentage null of {column_2} column is {percentage_null_2}\")\n",
    "      \n",
    "column_3 = 'Education Expenditure' \n",
    "null_count = df1['education_expenditure'].isnull().sum()\n",
    "total_rows = len(df1)\n",
    "percentage_null_3 = (null_count/total_rows) *100\n",
    "print(f\"the percentage null of {column_3} column is {percentage_null_3}\")\n",
    "      \n"
   ]
  },
  {
   "cell_type": "code",
   "execution_count": 12,
   "id": "6894873e-da08-4b97-9e69-3bcbe2d48dde",
   "metadata": {
    "tags": []
   },
   "outputs": [],
   "source": [
    "df1 = df1.drop(columns = ['Corruption'])"
   ]
  },
  {
   "cell_type": "code",
   "execution_count": 13,
   "id": "ee6b9ed6-0548-4956-93c3-5881c22dd985",
   "metadata": {
    "tags": []
   },
   "outputs": [
    {
     "data": {
      "text/plain": [
       "country             0\n",
       "happiness_rank      0\n",
       "happiness_score     0\n",
       "GDP                 0\n",
       "family              0\n",
       "freedom             0\n",
       "government_trust    0\n",
       "generosity          0\n",
       "dtype: int64"
      ]
     },
     "execution_count": 13,
     "metadata": {},
     "output_type": "execute_result"
    }
   ],
   "source": [
    "df2.isnull().sum()"
   ]
  },
  {
   "cell_type": "markdown",
   "id": "16294a4a-c22a-417b-a261-5dd00f776e3f",
   "metadata": {},
   "source": [
    "## **3. Data Transformation**"
   ]
  },
  {
   "cell_type": "markdown",
   "id": "3947c553-3190-469f-9c10-a60222007c6f",
   "metadata": {},
   "source": [
    "**Country Dimension**"
   ]
  },
  {
   "cell_type": "code",
   "execution_count": 14,
   "id": "0ae90c8e-7a15-4ae5-a4a1-8f5f95d54a70",
   "metadata": {
    "tags": []
   },
   "outputs": [
    {
     "data": {
      "text/plain": [
       "False"
      ]
     },
     "execution_count": 14,
     "metadata": {},
     "output_type": "execute_result"
    }
   ],
   "source": [
    "#check if all countries in df1 exist in df2\n",
    "result = df1['country'].isin(df2['country']).all()\n",
    "result"
   ]
  },
  {
   "cell_type": "code",
   "execution_count": 15,
   "id": "7eb2b169-dd1b-4397-83d1-18824ea95fa4",
   "metadata": {
    "tags": []
   },
   "outputs": [
    {
     "data": {
      "text/html": [
       "<div>\n",
       "<style scoped>\n",
       "    .dataframe tbody tr th:only-of-type {\n",
       "        vertical-align: middle;\n",
       "    }\n",
       "\n",
       "    .dataframe tbody tr th {\n",
       "        vertical-align: top;\n",
       "    }\n",
       "\n",
       "    .dataframe thead th {\n",
       "        text-align: right;\n",
       "    }\n",
       "</style>\n",
       "<table border=\"1\" class=\"dataframe\">\n",
       "  <thead>\n",
       "    <tr style=\"text-align: right;\">\n",
       "      <th></th>\n",
       "      <th>country</th>\n",
       "    </tr>\n",
       "  </thead>\n",
       "  <tbody>\n",
       "    <tr>\n",
       "      <th>0</th>\n",
       "      <td>Afghanistan</td>\n",
       "    </tr>\n",
       "    <tr>\n",
       "      <th>1</th>\n",
       "      <td>Angola</td>\n",
       "    </tr>\n",
       "    <tr>\n",
       "      <th>2</th>\n",
       "      <td>Albania</td>\n",
       "    </tr>\n",
       "    <tr>\n",
       "      <th>3</th>\n",
       "      <td>Andorra</td>\n",
       "    </tr>\n",
       "    <tr>\n",
       "      <th>4</th>\n",
       "      <td>United Arab Emirates</td>\n",
       "    </tr>\n",
       "    <tr>\n",
       "      <th>...</th>\n",
       "      <td>...</td>\n",
       "    </tr>\n",
       "    <tr>\n",
       "      <th>3440</th>\n",
       "      <td>Egypt</td>\n",
       "    </tr>\n",
       "    <tr>\n",
       "      <th>3441</th>\n",
       "      <td>Yemen</td>\n",
       "    </tr>\n",
       "    <tr>\n",
       "      <th>3444</th>\n",
       "      <td>Congo (Brazzaville)</td>\n",
       "    </tr>\n",
       "    <tr>\n",
       "      <th>3456</th>\n",
       "      <td>Ivory Coast</td>\n",
       "    </tr>\n",
       "    <tr>\n",
       "      <th>3461</th>\n",
       "      <td>Syria</td>\n",
       "    </tr>\n",
       "  </tbody>\n",
       "</table>\n",
       "<p>197 rows × 1 columns</p>\n",
       "</div>"
      ],
      "text/plain": [
       "                   country\n",
       "0              Afghanistan\n",
       "1                   Angola\n",
       "2                  Albania\n",
       "3                  Andorra\n",
       "4     United Arab Emirates\n",
       "...                    ...\n",
       "3440                 Egypt\n",
       "3441                 Yemen\n",
       "3444   Congo (Brazzaville)\n",
       "3456           Ivory Coast\n",
       "3461                 Syria\n",
       "\n",
       "[197 rows x 1 columns]"
      ]
     },
     "execution_count": 15,
     "metadata": {},
     "output_type": "execute_result"
    }
   ],
   "source": [
    "#creating new table of unique country \n",
    "combined_df = pd.concat([df1['country'],df2['country']],ignore_index = True)\n",
    "country_id = pd.DataFrame({'country': combined_df}).drop_duplicates()\n",
    "country_id"
   ]
  },
  {
   "cell_type": "code",
   "execution_count": 16,
   "id": "f3126671-8589-4f3c-b974-3a1c7b6fdbc8",
   "metadata": {
    "tags": []
   },
   "outputs": [],
   "source": [
    "country_dim = country_id[['country']].reset_index(drop= True)\n",
    "country_dim['country_id'] = country_dim.index"
   ]
  },
  {
   "cell_type": "code",
   "execution_count": 17,
   "id": "15b44140-eada-4bed-a079-ad091af493ea",
   "metadata": {},
   "outputs": [
    {
     "data": {
      "text/html": [
       "<div>\n",
       "<style scoped>\n",
       "    .dataframe tbody tr th:only-of-type {\n",
       "        vertical-align: middle;\n",
       "    }\n",
       "\n",
       "    .dataframe tbody tr th {\n",
       "        vertical-align: top;\n",
       "    }\n",
       "\n",
       "    .dataframe thead th {\n",
       "        text-align: right;\n",
       "    }\n",
       "</style>\n",
       "<table border=\"1\" class=\"dataframe\">\n",
       "  <thead>\n",
       "    <tr style=\"text-align: right;\">\n",
       "      <th></th>\n",
       "      <th>country</th>\n",
       "      <th>region</th>\n",
       "      <th>income_group</th>\n",
       "      <th>year</th>\n",
       "      <th>life_expectancy</th>\n",
       "      <th>undernourishment</th>\n",
       "      <th>CO2</th>\n",
       "      <th>health_expenditure</th>\n",
       "      <th>education_expenditure</th>\n",
       "      <th>unemployment</th>\n",
       "      <th>sanitation</th>\n",
       "      <th>country_id</th>\n",
       "    </tr>\n",
       "  </thead>\n",
       "  <tbody>\n",
       "    <tr>\n",
       "      <th>0</th>\n",
       "      <td>Afghanistan</td>\n",
       "      <td>South Asia</td>\n",
       "      <td>Low income</td>\n",
       "      <td>2001</td>\n",
       "      <td>56.308</td>\n",
       "      <td>47.8</td>\n",
       "      <td>730.0</td>\n",
       "      <td>NaN</td>\n",
       "      <td>NaN</td>\n",
       "      <td>10.809000</td>\n",
       "      <td>NaN</td>\n",
       "      <td>0</td>\n",
       "    </tr>\n",
       "    <tr>\n",
       "      <th>1</th>\n",
       "      <td>Angola</td>\n",
       "      <td>Sub-Saharan Africa</td>\n",
       "      <td>Lower middle income</td>\n",
       "      <td>2001</td>\n",
       "      <td>47.059</td>\n",
       "      <td>67.5</td>\n",
       "      <td>15960.0</td>\n",
       "      <td>4.483516</td>\n",
       "      <td>NaN</td>\n",
       "      <td>4.004000</td>\n",
       "      <td>NaN</td>\n",
       "      <td>1</td>\n",
       "    </tr>\n",
       "    <tr>\n",
       "      <th>2</th>\n",
       "      <td>Albania</td>\n",
       "      <td>Europe &amp; Central Asia</td>\n",
       "      <td>Upper middle income</td>\n",
       "      <td>2001</td>\n",
       "      <td>74.288</td>\n",
       "      <td>4.9</td>\n",
       "      <td>3230.0</td>\n",
       "      <td>7.139524</td>\n",
       "      <td>3.4587</td>\n",
       "      <td>18.575001</td>\n",
       "      <td>40.520895</td>\n",
       "      <td>2</td>\n",
       "    </tr>\n",
       "    <tr>\n",
       "      <th>3</th>\n",
       "      <td>Andorra</td>\n",
       "      <td>Europe &amp; Central Asia</td>\n",
       "      <td>High income</td>\n",
       "      <td>2001</td>\n",
       "      <td>NaN</td>\n",
       "      <td>NaN</td>\n",
       "      <td>520.0</td>\n",
       "      <td>5.865939</td>\n",
       "      <td>NaN</td>\n",
       "      <td>NaN</td>\n",
       "      <td>21.788660</td>\n",
       "      <td>3</td>\n",
       "    </tr>\n",
       "    <tr>\n",
       "      <th>4</th>\n",
       "      <td>United Arab Emirates</td>\n",
       "      <td>Middle East &amp; North Africa</td>\n",
       "      <td>High income</td>\n",
       "      <td>2001</td>\n",
       "      <td>74.544</td>\n",
       "      <td>2.8</td>\n",
       "      <td>97200.0</td>\n",
       "      <td>2.484370</td>\n",
       "      <td>NaN</td>\n",
       "      <td>2.493000</td>\n",
       "      <td>NaN</td>\n",
       "      <td>4</td>\n",
       "    </tr>\n",
       "  </tbody>\n",
       "</table>\n",
       "</div>"
      ],
      "text/plain": [
       "                country                      region         income_group  \\\n",
       "0           Afghanistan                  South Asia           Low income   \n",
       "1                Angola          Sub-Saharan Africa  Lower middle income   \n",
       "2               Albania       Europe & Central Asia  Upper middle income   \n",
       "3               Andorra       Europe & Central Asia          High income   \n",
       "4  United Arab Emirates  Middle East & North Africa          High income   \n",
       "\n",
       "   year  life_expectancy  undernourishment      CO2  health_expenditure  \\\n",
       "0  2001           56.308              47.8    730.0                 NaN   \n",
       "1  2001           47.059              67.5  15960.0            4.483516   \n",
       "2  2001           74.288               4.9   3230.0            7.139524   \n",
       "3  2001              NaN               NaN    520.0            5.865939   \n",
       "4  2001           74.544               2.8  97200.0            2.484370   \n",
       "\n",
       "   education_expenditure  unemployment  sanitation  country_id  \n",
       "0                    NaN     10.809000         NaN           0  \n",
       "1                    NaN      4.004000         NaN           1  \n",
       "2                 3.4587     18.575001   40.520895           2  \n",
       "3                    NaN           NaN   21.788660           3  \n",
       "4                    NaN      2.493000         NaN           4  "
      ]
     },
     "execution_count": 17,
     "metadata": {},
     "output_type": "execute_result"
    }
   ],
   "source": [
    "#assign country with country_id\n",
    "#match the country with continent_id\n",
    "df1 = df1.merge(country_dim, on='country', how = 'left')\n",
    "df2 = df2.merge(country_dim, on='country', how = 'left')\n",
    "df1.head()"
   ]
  },
  {
   "cell_type": "code",
   "execution_count": 37,
   "id": "4cb0354c-d4c9-4605-b697-7614d343760c",
   "metadata": {
    "tags": []
   },
   "outputs": [],
   "source": [
    "file_name_5 = 'country_dim.csv'\n",
    "folder_path = os.path.join(r'C:\\Users', 'hhn19','OneDrive', 'Documents','projectsql', 'resources')\n",
    "file_path_5 = f'{folder_path}/{file_name_5}'\n",
    "country_dim.to_csv(file_path_5, index=False)"
   ]
  },
  {
   "cell_type": "markdown",
   "id": "e2625077-99b5-425b-9fef-499d3eb1ba16",
   "metadata": {
    "tags": []
   },
   "source": [
    "**Region Dimension**"
   ]
  },
  {
   "cell_type": "code",
   "execution_count": 18,
   "id": "43ae8c13-a451-4e38-abf4-4418e80f740b",
   "metadata": {
    "tags": []
   },
   "outputs": [
    {
     "data": {
      "text/html": [
       "<div>\n",
       "<style scoped>\n",
       "    .dataframe tbody tr th:only-of-type {\n",
       "        vertical-align: middle;\n",
       "    }\n",
       "\n",
       "    .dataframe tbody tr th {\n",
       "        vertical-align: top;\n",
       "    }\n",
       "\n",
       "    .dataframe thead th {\n",
       "        text-align: right;\n",
       "    }\n",
       "</style>\n",
       "<table border=\"1\" class=\"dataframe\">\n",
       "  <thead>\n",
       "    <tr style=\"text-align: right;\">\n",
       "      <th></th>\n",
       "      <th>continent</th>\n",
       "      <th>continent_id</th>\n",
       "    </tr>\n",
       "  </thead>\n",
       "  <tbody>\n",
       "    <tr>\n",
       "      <th>0</th>\n",
       "      <td>Asia</td>\n",
       "      <td>0</td>\n",
       "    </tr>\n",
       "    <tr>\n",
       "      <th>1</th>\n",
       "      <td>Africa</td>\n",
       "      <td>1</td>\n",
       "    </tr>\n",
       "    <tr>\n",
       "      <th>2</th>\n",
       "      <td>Europe</td>\n",
       "      <td>2</td>\n",
       "    </tr>\n",
       "    <tr>\n",
       "      <th>3</th>\n",
       "      <td>South America</td>\n",
       "      <td>3</td>\n",
       "    </tr>\n",
       "    <tr>\n",
       "      <th>4</th>\n",
       "      <td>Oceania</td>\n",
       "      <td>4</td>\n",
       "    </tr>\n",
       "    <tr>\n",
       "      <th>5</th>\n",
       "      <td>North America</td>\n",
       "      <td>5</td>\n",
       "    </tr>\n",
       "    <tr>\n",
       "      <th>6</th>\n",
       "      <td>Unknown</td>\n",
       "      <td>6</td>\n",
       "    </tr>\n",
       "  </tbody>\n",
       "</table>\n",
       "</div>"
      ],
      "text/plain": [
       "       continent  continent_id\n",
       "0           Asia             0\n",
       "1         Africa             1\n",
       "2         Europe             2\n",
       "3  South America             3\n",
       "4        Oceania             4\n",
       "5  North America             5\n",
       "6        Unknown             6"
      ]
     },
     "execution_count": 18,
     "metadata": {},
     "output_type": "execute_result"
    }
   ],
   "source": [
    "# due to difference in region format, region table will use python library as standardization across region (continent) column \n",
    "# Function to get the continent for a given country\n",
    "def get_continent(country_name):\n",
    "    try:\n",
    "        country_code = pc.country_name_to_country_alpha2(country_name, cn_name_format=\"default\")\n",
    "        continent_code = pc.country_alpha2_to_continent_code(country_code)\n",
    "        \n",
    "        continent_mapping = {\n",
    "            'AF': 'Africa',\n",
    "            'AS': 'Asia',\n",
    "            'EU': 'Europe',\n",
    "            'NA': 'North America',\n",
    "            'SA': 'South America',\n",
    "            'OC': 'Oceania',\n",
    "            'AN': 'Antarctica',\n",
    "        }\n",
    "        \n",
    "        continent = continent_mapping.get(continent_code, \"Unknown\")\n",
    "        return continent\n",
    "    except:\n",
    "        return \"Unknown\"\n",
    "\n",
    "\n",
    "region = pd.DataFrame()\n",
    "region['continent'] = country_dim['country'].apply(get_continent)\n",
    "temp_df = region['continent'].unique()\n",
    "region_dim =pd.DataFrame({'continent' : temp_df})\n",
    "region_dim['continent_id'] = region_dim.index\n",
    "region_dim"
   ]
  },
  {
   "cell_type": "code",
   "execution_count": 19,
   "id": "a9bcbe5d-4d59-43ec-8bb6-079b317f03b7",
   "metadata": {
    "tags": []
   },
   "outputs": [
    {
     "data": {
      "text/html": [
       "<div>\n",
       "<style scoped>\n",
       "    .dataframe tbody tr th:only-of-type {\n",
       "        vertical-align: middle;\n",
       "    }\n",
       "\n",
       "    .dataframe tbody tr th {\n",
       "        vertical-align: top;\n",
       "    }\n",
       "\n",
       "    .dataframe thead th {\n",
       "        text-align: right;\n",
       "    }\n",
       "</style>\n",
       "<table border=\"1\" class=\"dataframe\">\n",
       "  <thead>\n",
       "    <tr style=\"text-align: right;\">\n",
       "      <th></th>\n",
       "      <th>country</th>\n",
       "      <th>region</th>\n",
       "      <th>income_group</th>\n",
       "      <th>year</th>\n",
       "      <th>life_expectancy</th>\n",
       "      <th>undernourishment</th>\n",
       "      <th>CO2</th>\n",
       "      <th>health_expenditure</th>\n",
       "      <th>education_expenditure</th>\n",
       "      <th>unemployment</th>\n",
       "      <th>sanitation</th>\n",
       "      <th>country_id</th>\n",
       "      <th>continent_id</th>\n",
       "    </tr>\n",
       "  </thead>\n",
       "  <tbody>\n",
       "    <tr>\n",
       "      <th>0</th>\n",
       "      <td>Afghanistan</td>\n",
       "      <td>South Asia</td>\n",
       "      <td>Low income</td>\n",
       "      <td>2001</td>\n",
       "      <td>56.308</td>\n",
       "      <td>47.8</td>\n",
       "      <td>730.0</td>\n",
       "      <td>NaN</td>\n",
       "      <td>NaN</td>\n",
       "      <td>10.809000</td>\n",
       "      <td>NaN</td>\n",
       "      <td>0</td>\n",
       "      <td>0</td>\n",
       "    </tr>\n",
       "    <tr>\n",
       "      <th>1</th>\n",
       "      <td>Angola</td>\n",
       "      <td>Sub-Saharan Africa</td>\n",
       "      <td>Lower middle income</td>\n",
       "      <td>2001</td>\n",
       "      <td>47.059</td>\n",
       "      <td>67.5</td>\n",
       "      <td>15960.0</td>\n",
       "      <td>4.483516</td>\n",
       "      <td>NaN</td>\n",
       "      <td>4.004000</td>\n",
       "      <td>NaN</td>\n",
       "      <td>1</td>\n",
       "      <td>1</td>\n",
       "    </tr>\n",
       "    <tr>\n",
       "      <th>2</th>\n",
       "      <td>Albania</td>\n",
       "      <td>Europe &amp; Central Asia</td>\n",
       "      <td>Upper middle income</td>\n",
       "      <td>2001</td>\n",
       "      <td>74.288</td>\n",
       "      <td>4.9</td>\n",
       "      <td>3230.0</td>\n",
       "      <td>7.139524</td>\n",
       "      <td>3.4587</td>\n",
       "      <td>18.575001</td>\n",
       "      <td>40.520895</td>\n",
       "      <td>2</td>\n",
       "      <td>2</td>\n",
       "    </tr>\n",
       "    <tr>\n",
       "      <th>3</th>\n",
       "      <td>Andorra</td>\n",
       "      <td>Europe &amp; Central Asia</td>\n",
       "      <td>High income</td>\n",
       "      <td>2001</td>\n",
       "      <td>NaN</td>\n",
       "      <td>NaN</td>\n",
       "      <td>520.0</td>\n",
       "      <td>5.865939</td>\n",
       "      <td>NaN</td>\n",
       "      <td>NaN</td>\n",
       "      <td>21.788660</td>\n",
       "      <td>3</td>\n",
       "      <td>2</td>\n",
       "    </tr>\n",
       "    <tr>\n",
       "      <th>4</th>\n",
       "      <td>United Arab Emirates</td>\n",
       "      <td>Middle East &amp; North Africa</td>\n",
       "      <td>High income</td>\n",
       "      <td>2001</td>\n",
       "      <td>74.544</td>\n",
       "      <td>2.8</td>\n",
       "      <td>97200.0</td>\n",
       "      <td>2.484370</td>\n",
       "      <td>NaN</td>\n",
       "      <td>2.493000</td>\n",
       "      <td>NaN</td>\n",
       "      <td>4</td>\n",
       "      <td>0</td>\n",
       "    </tr>\n",
       "  </tbody>\n",
       "</table>\n",
       "</div>"
      ],
      "text/plain": [
       "                country                      region         income_group  \\\n",
       "0           Afghanistan                  South Asia           Low income   \n",
       "1                Angola          Sub-Saharan Africa  Lower middle income   \n",
       "2               Albania       Europe & Central Asia  Upper middle income   \n",
       "3               Andorra       Europe & Central Asia          High income   \n",
       "4  United Arab Emirates  Middle East & North Africa          High income   \n",
       "\n",
       "   year  life_expectancy  undernourishment      CO2  health_expenditure  \\\n",
       "0  2001           56.308              47.8    730.0                 NaN   \n",
       "1  2001           47.059              67.5  15960.0            4.483516   \n",
       "2  2001           74.288               4.9   3230.0            7.139524   \n",
       "3  2001              NaN               NaN    520.0            5.865939   \n",
       "4  2001           74.544               2.8  97200.0            2.484370   \n",
       "\n",
       "   education_expenditure  unemployment  sanitation  country_id  continent_id  \n",
       "0                    NaN     10.809000         NaN           0             0  \n",
       "1                    NaN      4.004000         NaN           1             1  \n",
       "2                 3.4587     18.575001   40.520895           2             2  \n",
       "3                    NaN           NaN   21.788660           3             2  \n",
       "4                    NaN      2.493000         NaN           4             0  "
      ]
     },
     "execution_count": 19,
     "metadata": {},
     "output_type": "execute_result"
    }
   ],
   "source": [
    "#apply continent function to original dataframe\n",
    "df1['continent'] = df1['country'].apply(get_continent)\n",
    "df2['continent'] = df2['country'].apply(get_continent)\n",
    "\n",
    "#match the country with continent_id\n",
    "df1_merged = df1.merge(region_dim, on='continent', how = 'left')\n",
    "df2_merged = df2.merge(region_dim, on='continent', how = 'left')\n",
    "df1_merged =df1_merged.drop(columns = 'continent')\n",
    "df2_merged = df2_merged.drop(columns= 'continent')\n",
    "df1_merged.head()"
   ]
  },
  {
   "cell_type": "code",
   "execution_count": 36,
   "id": "31558f75-caa7-4e8d-ae45-bde0524c0eba",
   "metadata": {
    "tags": []
   },
   "outputs": [],
   "source": [
    "file_name_4 = 'region_dim.csv'\n",
    "folder_path = os.path.join(r'C:\\Users', 'hhn19','OneDrive', 'Documents','projectsql', 'resources')\n",
    "file_path_4 = f'{folder_path}/{file_name_4}'\n",
    "region_dim.to_csv(file_path_4, index=False)"
   ]
  },
  {
   "cell_type": "markdown",
   "id": "93d9df3c-89db-4bf5-be6b-11fb666da291",
   "metadata": {},
   "source": [
    "**Income Group Dimension**"
   ]
  },
  {
   "cell_type": "code",
   "execution_count": 20,
   "id": "93c8412c-9bd3-456d-a90d-2c113fe52a5c",
   "metadata": {
    "tags": []
   },
   "outputs": [],
   "source": [
    "#creating new table for income group dimension only for df1 as df2 table dont have income group informatuib\n",
    "temp_df = df1['income_group'].unique()\n",
    "income_group_dim = pd.DataFrame({'income_group' : temp_df})\n",
    "income_group_dim['income_group_id'] = income_group_dim.index\n",
    "#match country with income_group_id\n",
    "df1_merged = df1_merged.merge(income_group_dim, on='income_group', how = 'left')\n",
    "df1_merged = df1_merged.drop(columns = 'income_group')"
   ]
  },
  {
   "cell_type": "code",
   "execution_count": 21,
   "id": "cb82d990-14e1-4c86-8e55-1cd047afc9de",
   "metadata": {
    "tags": []
   },
   "outputs": [],
   "source": [
    "df1_merged = df1_merged.drop(columns = ['country', 'region'])\n",
    "df2_merged = df2_merged.drop(columns = ['country'])"
   ]
  },
  {
   "cell_type": "code",
   "execution_count": 35,
   "id": "84414260-ee68-4527-a654-ddabb65fe6a0",
   "metadata": {
    "tags": []
   },
   "outputs": [],
   "source": [
    "file_name_3 = 'income_dim.csv'\n",
    "folder_path = os.path.join(r'C:\\Users', 'hhn19','OneDrive', 'Documents','projectsql', 'resources')\n",
    "file_path_3 = f'{folder_path}/{file_name_3}'\n",
    "income_group_dim.to_csv(file_path_3, index=False) "
   ]
  },
  {
   "cell_type": "code",
   "execution_count": 28,
   "id": "bccdaa41-a780-44ac-ab97-2d8e88e38111",
   "metadata": {
    "tags": []
   },
   "outputs": [],
   "source": [
    "file_name_1 = 'life_expectancy.csv'\n",
    "file_name_2 = 'happiness_rank.csv'\n",
    "folder_path = os.path.join(r'C:\\Users', 'hhn19','OneDrive', 'Documents','projectsql', 'resources')\n",
    "file_path_1 = f'{folder_path}/{file_name_1}'\n",
    "file_path_2 = f'{folder_path}/{file_name_2}'\n",
    "df1_merged.to_csv(file_path_1, index=False) \n",
    "df2_merged.to_csv(file_path_2, index = False)\n"
   ]
  },
  {
   "cell_type": "code",
   "execution_count": 34,
   "id": "99ec8188-6732-435d-a8fe-0014812d8a33",
   "metadata": {
    "tags": []
   },
   "outputs": [],
   "source": []
  },
  {
   "cell_type": "code",
   "execution_count": null,
   "id": "d6dfcc19-bc2f-460f-a1cc-0977f7114b05",
   "metadata": {},
   "outputs": [],
   "source": []
  }
 ],
 "metadata": {
  "kernelspec": {
   "display_name": "Python 3 (ipykernel)",
   "language": "python",
   "name": "python3"
  },
  "language_info": {
   "codemirror_mode": {
    "name": "ipython",
    "version": 3
   },
   "file_extension": ".py",
   "mimetype": "text/x-python",
   "name": "python",
   "nbconvert_exporter": "python",
   "pygments_lexer": "ipython3",
   "version": "3.10.11"
  }
 },
 "nbformat": 4,
 "nbformat_minor": 5
}
